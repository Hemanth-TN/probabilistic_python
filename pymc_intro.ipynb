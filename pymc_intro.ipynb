{
 "cells": [
  {
   "cell_type": "markdown",
   "metadata": {},
   "source": [
    "[![Open In Colab](https://colab.research.google.com/assets/colab-badge.svg)](https://colab.research.google.com/github/fonnesbeck/probabilistic_python/blob/master/pymc_intro.ipynb)\n",
    "\n",
    "# Building Models in PyMC"
   ]
  },
  {
   "cell_type": "markdown",
   "metadata": {},
   "source": [
    "\n",
    "Probabilistic programming (PP) allows flexible specification of Bayesian statistical models in code. PyMC is an open-source PP framework with an intuitive and readable, yet powerful, syntax that is close to the natural syntax statisticians use to describe models. It features next-generation Markov chain Monte Carlo (MCMC) sampling algorithms such as the No-U-Turn Sampler (NUTS; Hoffman, 2014), a self-tuning variant of Hamiltonian Monte Carlo (HMC; Duane, 1987). This class of samplers works well on high dimensional and complex posterior distributions and allows many complex models to be fit without specialized knowledge about fitting algorithms. HMC and NUTS take advantage of gradient information from the likelihood to achieve much faster convergence than traditional sampling methods, especially for larger models. NUTS also has several self-tuning strategies for adaptively setting the tunable parameters of Hamiltonian Monte Carlo, which means you usually don't need to have specialized knowledge about how the algorithms work. \n",
    "\n",
    "Let's start by looking at a fully-specified model, to give you an idea of what we are building towards.\n"
   ]
  },
  {
   "cell_type": "markdown",
   "metadata": {},
   "source": [
    "\n",
    "### Example: Parametric Survival Model\n",
    "\n",
    "Survival models are used to estimate expected event times, often in biomedical settings. Survival data is characterized by the presence of censoring, where subject drop out of the study system before the event of interest occurs, or the study ends before events occur to all subjects. There are two components to the model likelihood: one that describes the observed events, and the other that describes the censoring (the fact that the event occurs sometime after the last observation).\n",
    "\n",
    "This example models the survival of cancer patients, using metastization (`X`) as a covariate and censoring (`censored`) as a binary indicator:\n",
    "\n",
    "```python\n",
    "with pm.Model() as weibull_model:\n",
    "\n",
    "    # Survival covariates\n",
    "    beta = pm.Normal(\"beta\", mu=0., sigma=10., shape=2)\n",
    "    eta = beta.dot(X.T)\n",
    "\n",
    "    # Observation noise\n",
    "    s = pm.HalfNormal(\"s\", 5.0)\n",
    "\n",
    "    # Survival function\n",
    "    y_obs = pm.Gumbel(\"y_obs\", eta[~censored], s, observed=y_std[~censored])\n",
    "\n",
    "    def gumbel_sf(y, m, s):\n",
    "        return 1.0 - tt.exp(-tt.exp(-(y - m) / s))\n",
    "\n",
    "    # Censored likelihood\n",
    "    y_cens = pm.Potential(\"y_cens\", gumbel_sf(y_std[censored], eta[censored], s))\n",
    "\n",
    "```\n",
    "\n",
    "For our purposes, its not important to undestand the details of survival modeling (the topic of entire university courses!). I'm using this example because it includes all of the building blocks of Bayesian models, as implemented in PyMC. "
   ]
  },
  {
   "cell_type": "code",
   "execution_count": 46,
   "metadata": {},
   "outputs": [],
   "source": [
    "import seaborn as sns\n",
    "import numpy as np\n",
    "import pymc as pm\n",
    "import arviz as az\n",
    "from statsmodels import datasets\n",
    "\n",
    "df = datasets.get_rdataset(\"mastectomy\", \"HSAUR\", cache=True).data.assign(\n",
    "    metastized=lambda df: 1.0 * (df.metastized == \"yes\"), event=lambda df: 1.0 * df.event\n",
    ")\n",
    "\n",
    "n_patient, _ = df.shape\n",
    "\n",
    "X = np.empty((n_patient, 2))\n",
    "X[:, 0] = 1.0\n",
    "X[:, 1] = df.metastized\n",
    "\n",
    "y = np.log(df.time.values)\n",
    "y_std = (y - y.mean()) / y.std()\n",
    "\n",
    "censored = df.event.values == 0.0\n"
   ]
  },
  {
   "cell_type": "markdown",
   "metadata": {},
   "source": [
    "In statistical notation, this model is represented as follows:\n",
    "\n",
    "$$S(t\\ |\\ \\beta, \\mathbf{x}) = S_0\\left(\\exp\\left(\\beta^{\\top} \\mathbf{x}\\right) \\cdot t\\right),$$\n",
    "$$\\beta \\sim N(0, 5^2 I_2)$$\n",
    "\n",
    "$$-\\log(S_0)=\\left\\{\n",
    "\\begin{array}{ll}\n",
    "P(Y \\geq y) = 1 - \\exp\\left(-\\exp\\left(-\\frac{y - \\mu}{s}\\right)\\right) & \\text{if censored} \\\\\n",
    "Y \\sim \\textrm{Gumbel}(\\eta, s) & \\text{otherwise}\n",
    "\\end{array}\\right.$$\n",
    "$$s \\sim \\textrm{HalfNormal}(5)$$\n",
    "\n",
    "At the model-specification stage (before the data are observed), $Y$, $\\beta$,and $s$ are all random variables. Bayesian \"random\" variables have not necessarily arisen from a physical random process. The Bayesian interpretation of probability is **epistemic**, meaning random variable $x$'s probability distribution $p(x)$ represents our knowledge and uncertainty about $x$'s value. Candidate values of $x$ for which $p(x)$ is high are relatively more probable, given what we know. \n",
    "\n",
    "We can generally divide the variables in a Bayesian model into two types: **stochastic** and **deterministic**. The only deterministic variable in this model is `eta`. If we knew the values of `eta`'s parents, we could compute the value of `eta` exactly. A deterministic like `eta` is defined by a mathematical function that returns its value given values for its parents. Deterministic variables are sometimes called the *systemic* part of the model. The nomenclature is a bit confusing, because these objects usually represent random variables; since the parents of `eta` are random, `eta` is random also.\n",
    "\n",
    "On the other hand, even if the values of the parents of variables `beta` or `s` were known, we would still be uncertain of their values. These variables are stochastic, characterized by probability distributions that express how plausible their candidate values are, given values for their parents.\n"
   ]
  },
  {
   "cell_type": "markdown",
   "metadata": {},
   "source": [
    "## Stochastic Random Variables\n",
    "\n",
    "Let's start at the top of the model, with the first stochastic variable `beta`:"
   ]
  },
  {
   "cell_type": "code",
   "execution_count": 6,
   "metadata": {},
   "outputs": [],
   "source": [
    "with pm.Model() as weibull_model:\n",
    "\n",
    "    beta = pm.Normal(\"beta\", mu=0., sigma=10., shape=2)"
   ]
  },
  {
   "cell_type": "markdown",
   "metadata": {},
   "source": [
    "We have done two things here. First, we have created a `Model` object; a `Model` is a Python object that encapsulates all of the variables that comprise our theoretical model, keeping them in a single container so that they may be used as a unit. After a `Model` is created, we can populate it with all of the model components that we specified when we wrote the model down. \n",
    "\n",
    "Notice that the `Model` above was declared using a `with` statement. This expression is used to define a Python idiom known as a **context manager**. Context managers, in general, are used to manage resources of some kind within a program. In this case, our resource is a `Model`, and we would like to add variables to it so that we can fit our statistical model. The key characteristic of the context manager is that the resources it manages are only defined within the indented block corresponding to the `with` statement. PyMC uses this idiom to automatically add defined variables to a model. Thus, any variable we define is automatically added to the `Model`, without having to explicitly add it.\n",
    "\n",
    "As an analogy, `Model` is a tape machine that records what is being added to the model; it keeps track the random variables (observed or unobserved) and other model components. The model context then computes some simple model properties, builds a **bijection** mapping that transforms between Python dictionaries and numpy/Aesara ndarrays. , More importantly, a `Model` contains methods to compile Aesara functions that take Random Variables--that are also initialised within the same model--as input.\n",
    "\n",
    "In fact, PyMC variables cannot be defined without a corresponding `Model`:"
   ]
  },
  {
   "cell_type": "code",
   "execution_count": 7,
   "metadata": {},
   "outputs": [
    {
     "ename": "TypeError",
     "evalue": "No model on context stack, which is needed to instantiate distributions. Add variable inside a 'with model:' block, or use the '.dist' syntax for a standalone distribution.",
     "output_type": "error",
     "traceback": [
      "\u001b[0;31m---------------------------------------------------------------------------\u001b[0m",
      "\u001b[0;31mIndexError\u001b[0m                                Traceback (most recent call last)",
      "File \u001b[0;32m~/miniforge3/envs/prob_python/lib/python3.10/site-packages/pymc/model.py:189\u001b[0m, in \u001b[0;36mContextMeta.get_context\u001b[0;34m(cls, error_if_none)\u001b[0m\n\u001b[1;32m    <a href='file:///Users/cfonnesbeck/miniforge3/envs/prob_python/lib/python3.10/site-packages/pymc/model.py?line=187'>188</a>\u001b[0m \u001b[39mtry\u001b[39;00m:\n\u001b[0;32m--> <a href='file:///Users/cfonnesbeck/miniforge3/envs/prob_python/lib/python3.10/site-packages/pymc/model.py?line=188'>189</a>\u001b[0m     candidate \u001b[39m=\u001b[39m \u001b[39mcls\u001b[39;49m\u001b[39m.\u001b[39;49mget_contexts()[\u001b[39m-\u001b[39;49m\u001b[39m1\u001b[39;49m]  \u001b[39m# type: Optional[T]\u001b[39;00m\n\u001b[1;32m    <a href='file:///Users/cfonnesbeck/miniforge3/envs/prob_python/lib/python3.10/site-packages/pymc/model.py?line=189'>190</a>\u001b[0m \u001b[39mexcept\u001b[39;00m \u001b[39mIndexError\u001b[39;00m \u001b[39mas\u001b[39;00m e:\n\u001b[1;32m    <a href='file:///Users/cfonnesbeck/miniforge3/envs/prob_python/lib/python3.10/site-packages/pymc/model.py?line=190'>191</a>\u001b[0m     \u001b[39m# Calling code expects to get a TypeError if the entity\u001b[39;00m\n\u001b[1;32m    <a href='file:///Users/cfonnesbeck/miniforge3/envs/prob_python/lib/python3.10/site-packages/pymc/model.py?line=191'>192</a>\u001b[0m     \u001b[39m# is unfound, and there's too much to fix.\u001b[39;00m\n",
      "\u001b[0;31mIndexError\u001b[0m: list index out of range",
      "\nDuring handling of the above exception, another exception occurred:\n",
      "\u001b[0;31mTypeError\u001b[0m                                 Traceback (most recent call last)",
      "File \u001b[0;32m~/miniforge3/envs/prob_python/lib/python3.10/site-packages/pymc/distributions/distribution.py:241\u001b[0m, in \u001b[0;36mDistribution.__new__\u001b[0;34m(cls, name, rng, dims, initval, observed, total_size, transform, *args, **kwargs)\u001b[0m\n\u001b[1;32m    <a href='file:///Users/cfonnesbeck/miniforge3/envs/prob_python/lib/python3.10/site-packages/pymc/distributions/distribution.py?line=238'>239</a>\u001b[0m     \u001b[39mfrom\u001b[39;00m \u001b[39mpymc\u001b[39;00m\u001b[39m.\u001b[39;00m\u001b[39mmodel\u001b[39;00m \u001b[39mimport\u001b[39;00m Model\n\u001b[0;32m--> <a href='file:///Users/cfonnesbeck/miniforge3/envs/prob_python/lib/python3.10/site-packages/pymc/distributions/distribution.py?line=240'>241</a>\u001b[0m     model \u001b[39m=\u001b[39m Model\u001b[39m.\u001b[39;49mget_context()\n\u001b[1;32m    <a href='file:///Users/cfonnesbeck/miniforge3/envs/prob_python/lib/python3.10/site-packages/pymc/distributions/distribution.py?line=241'>242</a>\u001b[0m \u001b[39mexcept\u001b[39;00m \u001b[39mTypeError\u001b[39;00m:\n",
      "File \u001b[0;32m~/miniforge3/envs/prob_python/lib/python3.10/site-packages/pymc/model.py:194\u001b[0m, in \u001b[0;36mContextMeta.get_context\u001b[0;34m(cls, error_if_none)\u001b[0m\n\u001b[1;32m    <a href='file:///Users/cfonnesbeck/miniforge3/envs/prob_python/lib/python3.10/site-packages/pymc/model.py?line=192'>193</a>\u001b[0m \u001b[39mif\u001b[39;00m error_if_none:\n\u001b[0;32m--> <a href='file:///Users/cfonnesbeck/miniforge3/envs/prob_python/lib/python3.10/site-packages/pymc/model.py?line=193'>194</a>\u001b[0m     \u001b[39mraise\u001b[39;00m \u001b[39mTypeError\u001b[39;00m(\u001b[39mf\u001b[39m\u001b[39m\"\u001b[39m\u001b[39mNo \u001b[39m\u001b[39m{\u001b[39;00m\u001b[39mcls\u001b[39m\u001b[39m}\u001b[39;00m\u001b[39m on context stack\u001b[39m\u001b[39m\"\u001b[39m)\n\u001b[1;32m    <a href='file:///Users/cfonnesbeck/miniforge3/envs/prob_python/lib/python3.10/site-packages/pymc/model.py?line=194'>195</a>\u001b[0m \u001b[39mreturn\u001b[39;00m \u001b[39mNone\u001b[39;00m\n",
      "\u001b[0;31mTypeError\u001b[0m: No <class 'pymc.model.Model'> on context stack",
      "\nDuring handling of the above exception, another exception occurred:\n",
      "\u001b[0;31mTypeError\u001b[0m                                 Traceback (most recent call last)",
      "\u001b[1;32m/Users/cfonnesbeck/GitHub/probabilistic_python/pymc_intro.ipynb Cell 9'\u001b[0m in \u001b[0;36m<cell line: 1>\u001b[0;34m()\u001b[0m\n\u001b[0;32m----> <a href='vscode-notebook-cell:/Users/cfonnesbeck/GitHub/probabilistic_python/pymc_intro.ipynb#ch0000087?line=0'>1</a>\u001b[0m beta \u001b[39m=\u001b[39m pm\u001b[39m.\u001b[39;49mNormal(\u001b[39m\"\u001b[39;49m\u001b[39mbeta\u001b[39;49m\u001b[39m\"\u001b[39;49m, mu\u001b[39m=\u001b[39;49m\u001b[39m0.\u001b[39;49m, sigma\u001b[39m=\u001b[39;49m\u001b[39m10.\u001b[39;49m, shape\u001b[39m=\u001b[39;49m\u001b[39m2\u001b[39;49m)\n",
      "File \u001b[0;32m~/miniforge3/envs/prob_python/lib/python3.10/site-packages/pymc/distributions/distribution.py:243\u001b[0m, in \u001b[0;36mDistribution.__new__\u001b[0;34m(cls, name, rng, dims, initval, observed, total_size, transform, *args, **kwargs)\u001b[0m\n\u001b[1;32m    <a href='file:///Users/cfonnesbeck/miniforge3/envs/prob_python/lib/python3.10/site-packages/pymc/distributions/distribution.py?line=240'>241</a>\u001b[0m     model \u001b[39m=\u001b[39m Model\u001b[39m.\u001b[39mget_context()\n\u001b[1;32m    <a href='file:///Users/cfonnesbeck/miniforge3/envs/prob_python/lib/python3.10/site-packages/pymc/distributions/distribution.py?line=241'>242</a>\u001b[0m \u001b[39mexcept\u001b[39;00m \u001b[39mTypeError\u001b[39;00m:\n\u001b[0;32m--> <a href='file:///Users/cfonnesbeck/miniforge3/envs/prob_python/lib/python3.10/site-packages/pymc/distributions/distribution.py?line=242'>243</a>\u001b[0m     \u001b[39mraise\u001b[39;00m \u001b[39mTypeError\u001b[39;00m(\n\u001b[1;32m    <a href='file:///Users/cfonnesbeck/miniforge3/envs/prob_python/lib/python3.10/site-packages/pymc/distributions/distribution.py?line=243'>244</a>\u001b[0m         \u001b[39m\"\u001b[39m\u001b[39mNo model on context stack, which is needed to \u001b[39m\u001b[39m\"\u001b[39m\n\u001b[1;32m    <a href='file:///Users/cfonnesbeck/miniforge3/envs/prob_python/lib/python3.10/site-packages/pymc/distributions/distribution.py?line=244'>245</a>\u001b[0m         \u001b[39m\"\u001b[39m\u001b[39minstantiate distributions. Add variable inside \u001b[39m\u001b[39m\"\u001b[39m\n\u001b[1;32m    <a href='file:///Users/cfonnesbeck/miniforge3/envs/prob_python/lib/python3.10/site-packages/pymc/distributions/distribution.py?line=245'>246</a>\u001b[0m         \u001b[39m\"\u001b[39m\u001b[39ma \u001b[39m\u001b[39m'\u001b[39m\u001b[39mwith model:\u001b[39m\u001b[39m'\u001b[39m\u001b[39m block, or use the \u001b[39m\u001b[39m'\u001b[39m\u001b[39m.dist\u001b[39m\u001b[39m'\u001b[39m\u001b[39m syntax \u001b[39m\u001b[39m\"\u001b[39m\n\u001b[1;32m    <a href='file:///Users/cfonnesbeck/miniforge3/envs/prob_python/lib/python3.10/site-packages/pymc/distributions/distribution.py?line=246'>247</a>\u001b[0m         \u001b[39m\"\u001b[39m\u001b[39mfor a standalone distribution.\u001b[39m\u001b[39m\"\u001b[39m\n\u001b[1;32m    <a href='file:///Users/cfonnesbeck/miniforge3/envs/prob_python/lib/python3.10/site-packages/pymc/distributions/distribution.py?line=247'>248</a>\u001b[0m     )\n\u001b[1;32m    <a href='file:///Users/cfonnesbeck/miniforge3/envs/prob_python/lib/python3.10/site-packages/pymc/distributions/distribution.py?line=249'>250</a>\u001b[0m \u001b[39mif\u001b[39;00m \u001b[39m\"\u001b[39m\u001b[39mtestval\u001b[39m\u001b[39m\"\u001b[39m \u001b[39min\u001b[39;00m kwargs:\n\u001b[1;32m    <a href='file:///Users/cfonnesbeck/miniforge3/envs/prob_python/lib/python3.10/site-packages/pymc/distributions/distribution.py?line=250'>251</a>\u001b[0m     initval \u001b[39m=\u001b[39m kwargs\u001b[39m.\u001b[39mpop(\u001b[39m\"\u001b[39m\u001b[39mtestval\u001b[39m\u001b[39m\"\u001b[39m)\n",
      "\u001b[0;31mTypeError\u001b[0m: No model on context stack, which is needed to instantiate distributions. Add variable inside a 'with model:' block, or use the '.dist' syntax for a standalone distribution."
     ]
    }
   ],
   "source": [
    "beta = pm.Normal(\"beta\", mu=0., sigma=10., shape=2)"
   ]
  },
  {
   "cell_type": "markdown",
   "metadata": {},
   "source": [
    "A stochastic variable is represented in PyMC by a `Distribution` class. This structure extens Aesara's `TensorVariable` class, mainly by registering it with an associated PyMC `Model`. "
   ]
  },
  {
   "cell_type": "code",
   "execution_count": 10,
   "metadata": {},
   "outputs": [
    {
     "data": {
      "text/plain": [
       "aesara.tensor.var.TensorVariable"
      ]
     },
     "execution_count": 10,
     "metadata": {},
     "output_type": "execute_result"
    }
   ],
   "source": [
    "type(beta)"
   ]
  },
  {
   "cell_type": "markdown",
   "metadata": {},
   "source": [
    "All of the `Distribution` subclasses included in PyMC will have two key methods, `random()` and `logp()`, which are used to generate random values and compute the log-probability of a value, respectively.\n",
    "\n",
    "```python\n",
    "class SomeDistribution(Continuous):\n",
    "    def __init__(...):\n",
    "        ...\n",
    "\n",
    "    def random(self, point=None, size=None):\n",
    "        ...\n",
    "        return random_samples\n",
    "\n",
    "    def logp(self, value):\n",
    "        ...\n",
    "        return total_log_prob\n",
    "```\n",
    "\n",
    "PyMC expects the `logp()` method to return a log-probability evaluated at the passed `value` argument. This method is used internally by all of the inference methods to calculate the model log-probability that is used for fitting models. \n",
    "\n",
    "The `logp` method is only used internally by PyMC; should you wish to calculate a log-probability manually, use the `pm.logp` function instead:"
   ]
  },
  {
   "cell_type": "code",
   "execution_count": 25,
   "metadata": {},
   "outputs": [
    {
     "data": {
      "text/plain": [
       "array(-3.22652363)"
      ]
     },
     "execution_count": 25,
     "metadata": {},
     "output_type": "execute_result"
    }
   ],
   "source": [
    "pm.logp(beta, 1).eval()"
   ]
  },
  {
   "cell_type": "markdown",
   "metadata": {},
   "source": [
    "The `random()` method is used to simulate values from the variable, and is used internally for posterior predictive checks. Similarly, to manually generate values from PyMC variables, use the `pm.draw` function:"
   ]
  },
  {
   "cell_type": "code",
   "execution_count": 28,
   "metadata": {},
   "outputs": [
    {
     "data": {
      "text/plain": [
       "array([[-7.22163405,  0.56011825],\n",
       "       [22.45748477,  4.24599471],\n",
       "       [ 7.36214462,  0.49011792]])"
      ]
     },
     "execution_count": 28,
     "metadata": {},
     "output_type": "execute_result"
    }
   ],
   "source": [
    "pm.draw(beta, 3)"
   ]
  },
  {
   "cell_type": "markdown",
   "metadata": {},
   "source": [
    "`Distribution` has a classmethod `dist` that returns a **stateless** probability distribution of that type; that is, without being wrapped in a PyMC random variable object. Sometimes we wish to use a particular statistical distribution, without using it as a variable in a model; for example, to generate random numbers from the distribution. "
   ]
  },
  {
   "cell_type": "code",
   "execution_count": 13,
   "metadata": {},
   "outputs": [
    {
     "data": {
      "image/png": "[encoded data removed]",
      "text/plain": [
       "<Figure size 432x288 with 1 Axes>"
      ]
     },
     "metadata": {
      "needs_background": "light"
     },
     "output_type": "display_data"
    }
   ],
   "source": [
    "x = pm.Normal.dist(mu=0, sigma=1, size=1000)\n",
    "sns.histplot(x.eval());"
   ]
  },
  {
   "cell_type": "markdown",
   "metadata": {},
   "source": [
    "PyMC includes most of the probability density functions (for continuous variables) and probability mass functions (for discrete variables) used in statistical modeling. These distributions are divided into five distinct categories:\n",
    "\n",
    "* Univariate continuous\n",
    "* Univariate discrete\n",
    "* Multivariate\n",
    "* Mixture\n",
    "* Timeseries\n",
    "\n",
    "Probability distributions are all subclasses of `Distribution`, which in turn has two major subclasses: `Discrete` and `Continuous`. In terms of data types, a `Continuous` random variable is given whichever floating point type is defined by `aesara.config.floatX`, while `Discrete` variables are given `int16` types when `aesara.config.floatX` is `float32`, and `int64` otherwise."
   ]
  },
  {
   "cell_type": "code",
   "execution_count": 14,
   "metadata": {},
   "outputs": [
    {
     "data": {
      "text/plain": [
       "['Uniform',\n",
       " 'Flat',\n",
       " 'HalfFlat',\n",
       " 'TruncatedNormal',\n",
       " 'Normal',\n",
       " 'Beta',\n",
       " 'Kumaraswamy',\n",
       " 'Exponential',\n",
       " 'Laplace',\n",
       " 'StudentT',\n",
       " 'Cauchy',\n",
       " 'HalfCauchy',\n",
       " 'Gamma',\n",
       " 'Weibull',\n",
       " 'Bound',\n",
       " 'LogNormal',\n",
       " 'Lognormal',\n",
       " 'HalfStudentT',\n",
       " 'ChiSquared',\n",
       " 'HalfNormal',\n",
       " 'Wald',\n",
       " 'Pareto',\n",
       " 'InverseGamma',\n",
       " 'ExGaussian',\n",
       " 'VonMises',\n",
       " 'Binomial',\n",
       " 'BetaBinomial',\n",
       " 'Bernoulli',\n",
       " 'Poisson',\n",
       " 'NegativeBinomial',\n",
       " 'Constant',\n",
       " 'ZeroInflatedPoisson',\n",
       " 'ZeroInflatedNegativeBinomial',\n",
       " 'ZeroInflatedBinomial',\n",
       " 'DiscreteUniform',\n",
       " 'Geometric',\n",
       " 'HyperGeometric',\n",
       " 'Categorical',\n",
       " 'OrderedLogistic',\n",
       " 'OrderedProbit',\n",
       " 'DensityDist',\n",
       " 'Distribution',\n",
       " 'SymbolicDistribution',\n",
       " 'Continuous',\n",
       " 'Discrete',\n",
       " 'NoDistribution',\n",
       " 'MvNormal',\n",
       " 'MatrixNormal',\n",
       " 'KroneckerNormal',\n",
       " 'MvStudentT',\n",
       " 'Dirichlet',\n",
       " 'StickBreakingWeights',\n",
       " 'Multinomial',\n",
       " 'DirichletMultinomial',\n",
       " 'OrderedMultinomial',\n",
       " 'Wishart',\n",
       " 'WishartBartlett',\n",
       " 'LKJCholeskyCov',\n",
       " 'LKJCorr',\n",
       " 'AR',\n",
       " 'AsymmetricLaplace',\n",
       " 'GaussianRandomWalk',\n",
       " 'MvGaussianRandomWalk',\n",
       " 'MvStudentTRandomWalk',\n",
       " 'GARCH11',\n",
       " 'SkewNormal',\n",
       " 'Mixture',\n",
       " 'NormalMixture',\n",
       " 'Triangular',\n",
       " 'DiscreteWeibull',\n",
       " 'Gumbel',\n",
       " 'Logistic',\n",
       " 'LogitNormal',\n",
       " 'Interpolated',\n",
       " 'Bound',\n",
       " 'Rice',\n",
       " 'Moyal',\n",
       " 'Simulator',\n",
       " 'Censored',\n",
       " 'CAR',\n",
       " 'PolyaGamma',\n",
       " 'joint_logpt',\n",
       " 'logp',\n",
       " 'logcdf']"
      ]
     },
     "execution_count": 14,
     "metadata": {},
     "output_type": "execute_result"
    }
   ],
   "source": [
    "pm.distributions.__all__"
   ]
  },
  {
   "cell_type": "markdown",
   "metadata": {},
   "source": [
    "Notice that while the `beta` variable is osensibly a univariate random variable, being normal, it has a shape of 2, meaning that it is a \"batch\" of similar random variables (i.e. linear model coefficients)."
   ]
  },
  {
   "cell_type": "code",
   "execution_count": 21,
   "metadata": {},
   "outputs": [
    {
     "data": {
      "text/plain": [
       "array([2])"
      ]
     },
     "execution_count": 21,
     "metadata": {},
     "output_type": "execute_result"
    }
   ],
   "source": [
    "beta.shape.eval()"
   ]
  },
  {
   "cell_type": "markdown",
   "metadata": {},
   "source": [
    "While we are defining our priors, let's also add the prior for `s`, the observation noise parameter."
   ]
  },
  {
   "cell_type": "code",
   "execution_count": 15,
   "metadata": {},
   "outputs": [],
   "source": [
    "with weibull_model:\n",
    "\n",
    "    s = pm.HalfNormal(\"s\", 5.0)"
   ]
  },
  {
   "cell_type": "markdown",
   "metadata": {},
   "source": [
    "Notice that we have \"re-opened\" the `weibull_model` in a new context manager, which allows us to add additional variables.\n",
    "\n",
    "Internally, the model is keeping track of the types of variables that are being added:"
   ]
  },
  {
   "cell_type": "code",
   "execution_count": 22,
   "metadata": {},
   "outputs": [
    {
     "data": {
      "text/plain": [
       "[beta ~ N(0, 10), s ~ N**+(0, 5)]"
      ]
     },
     "execution_count": 22,
     "metadata": {},
     "output_type": "execute_result"
    }
   ],
   "source": [
    "weibull_model.unobserved_RVs"
   ]
  },
  {
   "cell_type": "markdown",
   "metadata": {},
   "source": [
    "### Auto-transformation\n",
    "\n",
    "To support efficient sampling by PyMC's MCMC algorithms, any continuous variables that are constrained to a sub-interval of the real line are automatically transformed so that their support is unconstrained. This frees sampling algorithms from having to deal with boundary constraints.\n",
    "\n",
    "For example, the half-normal distribution is positive-valued."
   ]
  },
  {
   "cell_type": "code",
   "execution_count": 37,
   "metadata": {},
   "outputs": [
    {
     "data": {
      "image/png": "[encoded data removed]",
      "text/plain": [
       "<Figure size 432x288 with 1 Axes>"
      ]
     },
     "metadata": {
      "needs_background": "light"
     },
     "output_type": "display_data"
    }
   ],
   "source": [
    "sns.histplot(pm.draw(s, 1000));"
   ]
  },
  {
   "cell_type": "code",
   "execution_count": 38,
   "metadata": {},
   "outputs": [
    {
     "data": {
      "text/plain": [
       "array(-inf)"
      ]
     },
     "execution_count": 38,
     "metadata": {},
     "output_type": "execute_result"
    }
   ],
   "source": [
    "pm.logp(s, -1).eval()"
   ]
  },
  {
   "cell_type": "markdown",
   "metadata": {},
   "source": [
    "If we inspect the model's `value_vars` attribute, which contains the values of each random variable actually used by the model's log-likelihood:\n"
   ]
  },
  {
   "cell_type": "code",
   "execution_count": null,
   "metadata": {},
   "outputs": [
    {
     "data": {
      "text/plain": [
       "[beta, s_log__]"
      ]
     },
     "metadata": {},
     "output_type": "display_data"
    }
   ],
   "source": [
    "weibull_model.value_vars"
   ]
  },
  {
   "cell_type": "markdown",
   "metadata": {},
   "source": [
    "As the name suggests, the variable ``s`` has been log-transformed, and this is the space over which posterior sampling takes place. When a sample is drawn, the value of the transformed variable is simply back-transformed to recover the original variable.\n",
    "\n",
    "By default, auto-transformed variables are ignored when summarizing and plotting model output, since they are not generally of interest to the user."
   ]
  },
  {
   "cell_type": "markdown",
   "metadata": {},
   "source": [
    "## Deterministic Variables\n",
    "\n",
    "A deterministic variable is one whose values are **completely determined** by the values of their parents. The variable `eta` is a linear combination of the predictor variable and the coefficients, with no inherent randomness beyond what is inherited from them. "
   ]
  },
  {
   "cell_type": "code",
   "execution_count": 19,
   "metadata": {},
   "outputs": [],
   "source": [
    "with weibull_model:\n",
    "\n",
    "    eta = beta.dot(X.T)"
   ]
  },
  {
   "cell_type": "markdown",
   "metadata": {},
   "source": [
    "Notice that `eta` is **anonymous** as it has not been given a name or a formal PyMC data structure, like the stochastic priors have. It is essentially an **intermediate calculation** in the model, implying that we are not interested in its value when it comes to summarizing the output from the model. Most PyMC objects have a name assigned; these names are used for storage and post-processing:\n",
    "\n",
    "-   as keys in output databases,\n",
    "-   as axis labels in plots of traces,\n",
    "-   as table labels in summary statistics.\n",
    "\n",
    "If we wish to include `eta` in our output, we need to make it a `Deterministic` object, and give it a name:\n",
    "\n",
    "```python\n",
    "with weibull_model:\n",
    "\n",
    "    eta = pm.Deterministic('eta', beta.dot(X.T))\n",
    "```"
   ]
  },
  {
   "cell_type": "code",
   "execution_count": 20,
   "metadata": {},
   "outputs": [
    {
     "data": {
      "text/plain": [
       "array([44])"
      ]
     },
     "execution_count": 20,
     "metadata": {},
     "output_type": "execute_result"
    }
   ],
   "source": [
    "eta.shape.eval()"
   ]
  },
  {
   "cell_type": "markdown",
   "metadata": {},
   "source": [
    "## Observed Random Variables\n",
    "\n",
    "Stochastic random variables whose values are observed (*i.e.* data likelihoods) are represented by a different class than unobserved random variables. A `ObservedRV` object is instantiated any time a stochastic variable is specified with data passed as the `observed` argument. "
   ]
  },
  {
   "cell_type": "code",
   "execution_count": 32,
   "metadata": {},
   "outputs": [],
   "source": [
    "with weibull_model:\n",
    "\n",
    "        y_obs = pm.Gumbel(\"y_obs\", eta[~censored], s, observed=y_std[~censored])"
   ]
  },
  {
   "cell_type": "code",
   "execution_count": 34,
   "metadata": {},
   "outputs": [
    {
     "data": {
      "text/plain": [
       "[y_obs ~ Gumbel(f(beta), s)]"
      ]
     },
     "execution_count": 34,
     "metadata": {},
     "output_type": "execute_result"
    }
   ],
   "source": [
    "weibull_model.observed_RVs"
   ]
  },
  {
   "cell_type": "markdown",
   "metadata": {},
   "source": []
  },
  {
   "cell_type": "code",
   "execution_count": null,
   "metadata": {},
   "outputs": [],
   "source": [
    "import numpy as np\n",
    "\n",
    "with pm.Model():\n",
    "    \n",
    "    def uniform_logp(value, lower=0, upper=111):\n",
    "        \"\"\"The switchpoint for the rate of disaster occurrence.\"\"\"\n",
    "        return pm.math.switch((value > upper) | (value < lower), -np.inf, -np.log(upper - lower + 1))\n",
    "\n",
    "    switchpoint = pm.DensityDist('switchpoint', logp=uniform_logp, dtype='int64')"
   ]
  },
  {
   "cell_type": "code",
   "execution_count": null,
   "metadata": {},
   "outputs": [],
   "source": [
    "pm.logp(switchpoint, 4).eval()"
   ]
  },
  {
   "cell_type": "code",
   "execution_count": null,
   "metadata": {},
   "outputs": [],
   "source": [
    "pm.logp(switchpoint, 44).eval()"
   ]
  },
  {
   "cell_type": "code",
   "execution_count": null,
   "metadata": {},
   "outputs": [],
   "source": [
    "pm.logp(switchpoint, -4).eval()"
   ]
  },
  {
   "cell_type": "markdown",
   "metadata": {},
   "source": [
    "A couple of things to notice: while the function specified for the `logp` argument can be an arbitrary Python function, it must use **Aesara operators and functions** in its body. This is because one or more of the arguments passed to the function may be `TensorVariables`, and they must be supported. \n",
    "\n",
    "To emphasize, the Python function passed to `DensityDist` should compute the *log*-density or *log*-probability of the variable. That is why the return value in the example above is `-log(upper-lower+1)` rather than `1/(upper-lower+1)`."
   ]
  },
  {
   "cell_type": "code",
   "execution_count": null,
   "metadata": {},
   "outputs": [],
   "source": [
    "with disaster_model:\n",
    "    \n",
    "    disasters = pm.Poisson('disasters', mu=3, observed=[3,4,1,2,0,2,2])"
   ]
  },
  {
   "cell_type": "markdown",
   "metadata": {},
   "source": [
    "An important responsibility of `ObservedRV` is to automatically handle missing values in the data, when they are present (absent?). More on this later."
   ]
  },
  {
   "cell_type": "markdown",
   "metadata": {},
   "source": [
    "## Factor Potentials\n",
    "\n",
    "For some applications, we want to be able to modify the joint density by incorporating terms that don't correspond to probabilities of variables conditional on parents, for example:\n",
    "\n",
    "$$p(x_0, x_2, \\ldots x_{N-1}) \\propto \\prod_{i=0}^{N-2} \\psi_i(x_i, x_{i+1})$$\n",
    "\n",
    "In other cases we may want to add probability terms to existing models. We call such log-probability terms **factor potentials** (Jordan 2004). Bayesian hierarchical notation doesn't accomodate these potentials. \n",
    "\n",
    "### Creation of Potentials\n",
    "\n",
    "A potential can be created via the `Potential` function, in a way very similar to `Deterministic`'s named interface. In our survival model, we have a log-probability that is required to account for censoring in the data. This probability function can be defined as a standard Python function, and then wrapped by `Potential`:"
   ]
  },
  {
   "cell_type": "code",
   "execution_count": 41,
   "metadata": {},
   "outputs": [],
   "source": [
    "with weibull_model:\n",
    "    \n",
    "    def gumbel_sf(y, m, s):\n",
    "        return 1.0 - pm.math.exp(-pm.math.exp(-(y - m) / s))\n",
    "\n",
    "    y_cens = pm.Potential(\"y_cens\", gumbel_sf(y_std[censored], eta[censored], s))"
   ]
  },
  {
   "cell_type": "markdown",
   "metadata": {},
   "source": [
    "The function takes just a `name` as its first argument and an expression returning the appropriate log-probability as the second argument.\n",
    "\n",
    "A `Potential` has a log-probability but no value; compare this to a `Deterministic` node, which has a value but no log-probability, and a `Distribution` which has both."
   ]
  },
  {
   "cell_type": "markdown",
   "metadata": {},
   "source": [
    "An alternative to using a factor potential is to create a custom distribution from the log-probability function. If you have a well-behaved density function, we can use it in a model to build a model log-likelihood function. Almost any Aesara function can be turned into a distribution using the `DensityDist` function.\n",
    "\n",
    "This is achieved by \n",
    "\n",
    "```python\n",
    "def gumbel_sf(value, m, s):\n",
    "        return 1.0 - pm.math.exp(-pm.math.exp(-(value - m) / s))\n",
    "\n",
    "y_cens = pm.DensityDist('y_cens', eta[censored], s, logp=gumbel_sf, observed=y)\n",
    "```"
   ]
  },
  {
   "cell_type": "markdown",
   "metadata": {},
   "source": [
    "This will result in an observed random variable that will include a value attribute, and potentially a `random` method (though we have not specified one here). Its probably overkill for our purposes here, however."
   ]
  },
  {
   "cell_type": "code",
   "execution_count": 43,
   "metadata": {},
   "outputs": [
    {
     "data": {
      "image/svg+xml": "<?xml version=\"1.0\" encoding=\"UTF-8\" standalone=\"no\"?>\n<!DOCTYPE svg PUBLIC \"-//W3C//DTD SVG 1.1//EN\"\n \"http://www.w3.org/Graphics/SVG/1.1/DTD/svg11.dtd\">\n<!-- Generated by graphviz version 4.0.0 (0)\n -->\n<!-- Pages: 1 -->\n<svg width=\"268pt\" height=\"266pt\"\n viewBox=\"0.00 0.00 268.00 266.08\" xmlns=\"http://www.w3.org/2000/svg\" xmlns:xlink=\"http://www.w3.org/1999/xlink\">\n<g id=\"graph0\" class=\"graph\" transform=\"scale(1 1) rotate(0) translate(4 262.08)\">\n<polygon fill=\"white\" stroke=\"transparent\" points=\"-4,4 -4,-262.08 264,-262.08 264,4 -4,4\"/>\n<g id=\"clust1\" class=\"cluster\">\n<title>cluster2</title>\n<path fill=\"none\" stroke=\"black\" d=\"M25,-136.13C25,-136.13 101,-136.13 101,-136.13 107,-136.13 113,-142.13 113,-148.13 113,-148.13 113,-238.08 113,-238.08 113,-244.08 107,-250.08 101,-250.08 101,-250.08 25,-250.08 25,-250.08 19,-250.08 13,-244.08 13,-238.08 13,-238.08 13,-148.13 13,-148.13 13,-142.13 19,-136.13 25,-136.13\"/>\n<text text-anchor=\"middle\" x=\"101.5\" y=\"-143.93\" font-family=\"Times,serif\" font-size=\"14.00\">2</text>\n</g>\n<g id=\"clust2\" class=\"cluster\">\n<title>cluster26</title>\n<path fill=\"none\" stroke=\"black\" d=\"M20,-11.09C20,-11.09 116,-11.09 116,-11.09 122,-11.09 128,-17.09 128,-23.09 128,-23.09 128,-113.04 128,-113.04 128,-119.04 122,-125.04 116,-125.04 116,-125.04 20,-125.04 20,-125.04 14,-125.04 8,-119.04 8,-113.04 8,-113.04 8,-23.09 8,-23.09 8,-17.09 14,-11.09 20,-11.09\"/>\n<text text-anchor=\"middle\" x=\"113\" y=\"-18.89\" font-family=\"Times,serif\" font-size=\"14.00\">26</text>\n</g>\n<g id=\"clust3\" class=\"cluster\">\n<title>cluster18</title>\n<path fill=\"none\" stroke=\"black\" d=\"M148,-8C148,-8 240,-8 240,-8 246,-8 252,-14 252,-20 252,-20 252,-116.13 252,-116.13 252,-122.13 246,-128.13 240,-128.13 240,-128.13 148,-128.13 148,-128.13 142,-128.13 136,-122.13 136,-116.13 136,-116.13 136,-20 136,-20 136,-14 142,-8 148,-8\"/>\n<text text-anchor=\"middle\" x=\"237\" y=\"-15.8\" font-family=\"Times,serif\" font-size=\"14.00\">18</text>\n</g>\n<!-- beta -->\n<g id=\"node1\" class=\"node\">\n<title>beta</title>\n<ellipse fill=\"none\" stroke=\"black\" cx=\"63\" cy=\"-204.61\" rx=\"41.94\" ry=\"37.45\"/>\n<text text-anchor=\"middle\" x=\"63\" y=\"-215.91\" font-family=\"Times,serif\" font-size=\"14.00\">beta</text>\n<text text-anchor=\"middle\" x=\"63\" y=\"-200.91\" font-family=\"Times,serif\" font-size=\"14.00\">~</text>\n<text text-anchor=\"middle\" x=\"63\" y=\"-185.91\" font-family=\"Times,serif\" font-size=\"14.00\">Normal</text>\n</g>\n<!-- y_obs -->\n<g id=\"node3\" class=\"node\">\n<title>y_obs</title>\n<ellipse fill=\"lightgrey\" stroke=\"black\" cx=\"59\" cy=\"-79.56\" rx=\"43.27\" ry=\"37.45\"/>\n<text text-anchor=\"middle\" x=\"59\" y=\"-90.86\" font-family=\"Times,serif\" font-size=\"14.00\">y_obs</text>\n<text text-anchor=\"middle\" x=\"59\" y=\"-75.86\" font-family=\"Times,serif\" font-size=\"14.00\">~</text>\n<text text-anchor=\"middle\" x=\"59\" y=\"-60.86\" font-family=\"Times,serif\" font-size=\"14.00\">Gumbel</text>\n</g>\n<!-- beta&#45;&gt;y_obs -->\n<g id=\"edge2\" class=\"edge\">\n<title>beta&#45;&gt;y_obs</title>\n<path fill=\"none\" stroke=\"black\" d=\"M61.81,-167.02C61.41,-154.61 60.95,-140.58 60.53,-127.48\"/>\n<polygon fill=\"black\" stroke=\"black\" points=\"64.01,-127.1 60.19,-117.22 57.02,-127.33 64.01,-127.1\"/>\n</g>\n<!-- y_cens -->\n<g id=\"node4\" class=\"node\">\n<title>y_cens</title>\n<polygon fill=\"lightgrey\" stroke=\"black\" points=\"244,-62.74 244,-96.39 214.71,-120.19 173.29,-120.19 144,-96.39 144,-62.74 173.29,-38.94 214.71,-38.94 244,-62.74\"/>\n<text text-anchor=\"middle\" x=\"194\" y=\"-90.86\" font-family=\"Times,serif\" font-size=\"14.00\">y_cens</text>\n<text text-anchor=\"middle\" x=\"194\" y=\"-75.86\" font-family=\"Times,serif\" font-size=\"14.00\">~</text>\n<text text-anchor=\"middle\" x=\"194\" y=\"-60.86\" font-family=\"Times,serif\" font-size=\"14.00\">Potential</text>\n</g>\n<!-- beta&#45;&gt;y_cens -->\n<g id=\"edge5\" class=\"edge\">\n<title>beta&#45;&gt;y_cens</title>\n<path fill=\"none\" stroke=\"black\" d=\"M86.44,-173.36C96.49,-161.21 108.73,-147.44 121,-136.13 125.44,-132.03 127.16,-131.75 132,-128.13 137.9,-123.72 144.09,-119.04 150.18,-114.4\"/>\n<polygon fill=\"black\" stroke=\"black\" points=\"152.56,-116.99 158.38,-108.14 148.31,-111.43 152.56,-116.99\"/>\n</g>\n<!-- s -->\n<g id=\"node2\" class=\"node\">\n<title>s</title>\n<ellipse fill=\"none\" stroke=\"black\" cx=\"189\" cy=\"-204.61\" rx=\"58.88\" ry=\"37.45\"/>\n<text text-anchor=\"middle\" x=\"189\" y=\"-215.91\" font-family=\"Times,serif\" font-size=\"14.00\">s</text>\n<text text-anchor=\"middle\" x=\"189\" y=\"-200.91\" font-family=\"Times,serif\" font-size=\"14.00\">~</text>\n<text text-anchor=\"middle\" x=\"189\" y=\"-185.91\" font-family=\"Times,serif\" font-size=\"14.00\">HalfNormal</text>\n</g>\n<!-- s&#45;&gt;y_obs -->\n<g id=\"edge1\" class=\"edge\">\n<title>s&#45;&gt;y_obs</title>\n<path fill=\"none\" stroke=\"black\" d=\"M156.87,-173.19C138.15,-155.47 114.49,-133.09 95.13,-114.76\"/>\n<polygon fill=\"black\" stroke=\"black\" points=\"97.34,-112.03 87.67,-107.7 92.52,-117.11 97.34,-112.03\"/>\n</g>\n<!-- s&#45;&gt;y_cens -->\n<g id=\"edge4\" class=\"edge\">\n<title>s&#45;&gt;y_cens</title>\n<path fill=\"none\" stroke=\"black\" d=\"M190.49,-167.02C190.95,-155.51 191.48,-142.6 191.98,-130.33\"/>\n<polygon fill=\"black\" stroke=\"black\" points=\"195.48,-130.36 192.39,-120.23 188.49,-130.08 195.48,-130.36\"/>\n</g>\n<!-- y_obs&#45;&gt;y_obs -->\n<g id=\"edge3\" class=\"edge\">\n<title>y_obs&#45;&gt;y_obs</title>\n<path fill=\"none\" stroke=\"black\" d=\"M93.26,-102.57C107.77,-104.31 120.13,-96.64 120.13,-79.56 120.13,-66.63 113.03,-59.09 103.28,-56.95\"/>\n<polygon fill=\"black\" stroke=\"black\" points=\"103.39,-53.45 93.26,-56.55 103.11,-60.45 103.39,-53.45\"/>\n</g>\n</g>\n</svg>\n",
      "text/plain": [
       "<graphviz.graphs.Digraph at 0x14ab1ab00>"
      ]
     },
     "execution_count": 43,
     "metadata": {},
     "output_type": "execute_result"
    }
   ],
   "source": [
    "pm.model_to_graphviz(weibull_model)"
   ]
  },
  {
   "cell_type": "code",
   "execution_count": 44,
   "metadata": {},
   "outputs": [
    {
     "name": "stderr",
     "output_type": "stream",
     "text": [
      "Auto-assigning NUTS sampler...\n",
      "Initializing NUTS using jitter+adapt_diag...\n",
      "Multiprocess sampling (4 chains in 4 jobs)\n",
      "NUTS: [beta, s]\n"
     ]
    },
    {
     "data": {
      "text/html": [
       "\n",
       "<style>\n",
       "    /* Turns off some styling */\n",
       "    progress {\n",
       "        /* gets rid of default border in Firefox and Opera. */\n",
       "        border: none;\n",
       "        /* Needs to be in here for Safari polyfill so background images work as expected. */\n",
       "        background-size: auto;\n",
       "    }\n",
       "    .progress-bar-interrupted, .progress-bar-interrupted::-webkit-progress-bar {\n",
       "        background: #F44336;\n",
       "    }\n",
       "</style>\n"
      ],
      "text/plain": [
       "<IPython.core.display.HTML object>"
      ]
     },
     "metadata": {},
     "output_type": "display_data"
    },
    {
     "data": {
      "text/html": [
       "\n",
       "    <div>\n",
       "      <progress value='8000' class='' max='8000' style='width:300px; height:20px; vertical-align: middle;'></progress>\n",
       "      100.00% [8000/8000 00:02<00:00 Sampling 4 chains, 0 divergences]\n",
       "    </div>\n",
       "    "
      ],
      "text/plain": [
       "<IPython.core.display.HTML object>"
      ]
     },
     "metadata": {},
     "output_type": "display_data"
    },
    {
     "name": "stderr",
     "output_type": "stream",
     "text": [
      "Sampling 4 chains for 1_000 tune and 1_000 draw iterations (4_000 + 4_000 draws total) took 10 seconds.\n"
     ]
    }
   ],
   "source": [
    "with weibull_model:\n",
    "\n",
    "    trace = pm.sample()"
   ]
  },
  {
   "cell_type": "code",
   "execution_count": 47,
   "metadata": {},
   "outputs": [
    {
     "data": {
      "image/png": "[encoded data removed]",
      "text/plain": [
       "<Figure size 993.6x331.2 with 2 Axes>"
      ]
     },
     "metadata": {
      "needs_background": "light"
     },
     "output_type": "display_data"
    }
   ],
   "source": [
    "az.plot_posterior(trace, var_names=[\"beta\"]);"
   ]
  },
  {
   "cell_type": "markdown",
   "metadata": {},
   "source": [
    "---\n",
    "\n",
    "## To Learn More\n",
    "\n",
    "- C.D. Pilon. [Probabilistic Programming & Bayesian Methods for Hackers](https://camdavidsonpilon.github.io/Probabilistic-Programming-and-Bayesian-Methods-for-Hackers/)\n",
    "- M.I. Jordan. 2004. Graphical models. Statist. Sci., 19(1):140–155.\n",
    "- **Hoffman, M. D., and A. Gelman. (2014)**. The No-U-Turn Sampler: Adaptively Setting Path Lengths in Hamiltonian Monte Carlo. Journal of Machine Learning Research: JMLR 15 (1): 1593–1623.\n"
   ]
  }
 ],
 "metadata": {
  "interpreter": {
   "hash": "125ae30d70f5add3b55791599cf15605bb1e3472d016e70897800267b063dac3"
  },
  "kernelspec": {
   "display_name": "Python 3.10.4 ('prob_python')",
   "language": "python",
   "name": "python3"
  },
  "language_info": {
   "codemirror_mode": {
    "name": "ipython",
    "version": 3
   },
   "file_extension": ".py",
   "mimetype": "text/x-python",
   "name": "python",
   "nbconvert_exporter": "python",
   "pygments_lexer": "ipython3",
   "version": "3.10.4"
  },
  "latex_envs": {
   "bibliofile": "biblio.bib",
   "cite_by": "apalike",
   "current_citInitial": 1,
   "eqLabelWithNumbers": true,
   "eqNumInitial": 0
  }
 },
 "nbformat": 4,
 "nbformat_minor": 2
}
